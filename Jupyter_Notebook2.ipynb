{
    "cells": [
        {
            "metadata": {
                "collapsed": true
            },
            "cell_type": "markdown",
            "source": "# My Jupyter Notebook on IBM Watson Studio"
        },
        {
            "metadata": {},
            "cell_type": "markdown",
            "source": "**Viacheslav Vietluzhskykh**\n\ninternal auditor"
        },
        {
            "metadata": {},
            "cell_type": "markdown",
            "source": "*I am interested in data science because it would help much to advance further in my current profession.*"
        },
        {
            "metadata": {},
            "cell_type": "markdown",
            "source": "### The following code test the formula of Price-to-earnings ratio"
        },
        {
            "metadata": {},
            "cell_type": "code",
            "source": "# The price-to-earnings ratio (P/E) \n# is one of the most widely used tools by which investors and analysts determine a stock's relative valuation.\n# To determine the P/E value, one must simply divide the current stock price (n) by the earnings per share, EPS (m).\n\ndef PtoE_Ratio(n, m):\n    return(n/m)\n\nPtoE_Ratio(139.55, 4.75)",
            "execution_count": 1,
            "outputs": [
                {
                    "output_type": "execute_result",
                    "execution_count": 1,
                    "data": {
                        "text/plain": "29.378947368421056"
                    },
                    "metadata": {}
                }
            ]
        },
        {
            "metadata": {},
            "cell_type": "markdown",
            "source": "_______________________________________________\n\n\n* One\n* Two\n* Three\n\n1. One\n2. Two\n3. Three \n\n| 1st Coll | 2nd Coll | 3rd Coll| \n|--|--|--|\n|cat|dog|eagle|\n\nhttps://www.ibm.com/ua-en \n\nstrikethrough:  ~~This was mistaken text~~\n\n> Text that is a quote"
        }
    ],
    "metadata": {
        "kernelspec": {
            "name": "python3",
            "display_name": "Python 3.9",
            "language": "python"
        },
        "language_info": {
            "name": "python",
            "version": "3.9.12",
            "mimetype": "text/x-python",
            "codemirror_mode": {
                "name": "ipython",
                "version": 3
            },
            "pygments_lexer": "ipython3",
            "nbconvert_exporter": "python",
            "file_extension": ".py"
        }
    },
    "nbformat": 4,
    "nbformat_minor": 1
}